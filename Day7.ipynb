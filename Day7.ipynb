{
 "cells": [
  {
   "cell_type": "code",
   "execution_count": null,
   "id": "6fd4d3c1",
   "metadata": {},
   "outputs": [],
   "source": []
  },
  {
   "cell_type": "code",
   "execution_count": 1,
   "id": "67d68ac6",
   "metadata": {},
   "outputs": [],
   "source": [
    "import pandas as pd\n",
    "import numpy as np\n"
   ]
  },
  {
   "cell_type": "code",
   "execution_count": 2,
   "id": "a73fd009",
   "metadata": {},
   "outputs": [
    {
     "data": {
      "text/plain": [
       "1000"
      ]
     },
     "execution_count": 2,
     "metadata": {},
     "output_type": "execute_result"
    }
   ],
   "source": [
    "with open(\"day7.txt\") as f:\n",
    "    crabs = f.read().split(\",\")\n",
    "len(crabs)"
   ]
  },
  {
   "cell_type": "code",
   "execution_count": 3,
   "id": "95a9fe75",
   "metadata": {},
   "outputs": [
    {
     "data": {
      "text/plain": [
       "[1101, 1, 29, 67, 1102]"
      ]
     },
     "execution_count": 3,
     "metadata": {},
     "output_type": "execute_result"
    }
   ],
   "source": [
    "crabs = [int(c) for c in crabs]\n",
    "crabs[:5]"
   ]
  },
  {
   "cell_type": "code",
   "execution_count": 4,
   "id": "e3c6c4ef",
   "metadata": {},
   "outputs": [
    {
     "data": {
      "text/plain": [
       "473505"
      ]
     },
     "execution_count": 4,
     "metadata": {},
     "output_type": "execute_result"
    }
   ],
   "source": [
    "sum(crabs)"
   ]
  },
  {
   "cell_type": "code",
   "execution_count": 9,
   "id": "cc4819ac",
   "metadata": {},
   "outputs": [
    {
     "data": {
      "text/plain": [
       "[627, 473, 445, 407, 628]"
      ]
     },
     "execution_count": 9,
     "metadata": {},
     "output_type": "execute_result"
    }
   ],
   "source": [
    "a = 474\n",
    "l = [abs(a-c) for c in crabs]\n",
    "l[:5]\n"
   ]
  },
  {
   "cell_type": "code",
   "execution_count": 8,
   "id": "d26b276d",
   "metadata": {},
   "outputs": [
    {
     "data": {
      "text/plain": [
       "349949"
      ]
     },
     "execution_count": 8,
     "metadata": {},
     "output_type": "execute_result"
    }
   ],
   "source": [
    "sum(l)"
   ]
  },
  {
   "cell_type": "code",
   "execution_count": 10,
   "id": "8d37d421",
   "metadata": {},
   "outputs": [
    {
     "data": {
      "text/plain": [
       "350163"
      ]
     },
     "execution_count": 10,
     "metadata": {},
     "output_type": "execute_result"
    }
   ],
   "source": [
    "sum(l)"
   ]
  },
  {
   "cell_type": "code",
   "execution_count": 11,
   "id": "12ebbd4e",
   "metadata": {},
   "outputs": [
    {
     "data": {
      "text/plain": [
       "1921"
      ]
     },
     "execution_count": 11,
     "metadata": {},
     "output_type": "execute_result"
    }
   ],
   "source": [
    "max(crabs)"
   ]
  },
  {
   "cell_type": "code",
   "execution_count": 12,
   "id": "aa8fd4c4",
   "metadata": {},
   "outputs": [
    {
     "data": {
      "text/plain": [
       "336131"
      ]
     },
     "execution_count": 12,
     "metadata": {},
     "output_type": "execute_result"
    }
   ],
   "source": [
    "alist = []\n",
    "for n in range(1,1921+1):\n",
    "    l = [abs(n-c) for c in crabs]\n",
    "    alist.append(sum(l))\n",
    "min(alist)"
   ]
  },
  {
   "cell_type": "code",
   "execution_count": 13,
   "id": "f6a7df79",
   "metadata": {},
   "outputs": [
    {
     "data": {
      "text/plain": [
       "92676646"
      ]
     },
     "execution_count": 13,
     "metadata": {},
     "output_type": "execute_result"
    }
   ],
   "source": [
    "alist = []\n",
    "for n in range(1,1921+1):\n",
    "    l = [(abs(n-c)*(abs(n-c)+1))//2 for c in crabs]\n",
    "    alist.append(sum(l))\n",
    "min(alist)"
   ]
  },
  {
   "cell_type": "code",
   "execution_count": null,
   "id": "176067a3",
   "metadata": {},
   "outputs": [],
   "source": [
    "# so median would be for first\n",
    "# possibly mean for second"
   ]
  }
 ],
 "metadata": {
  "kernelspec": {
   "display_name": "Python 3 (ipykernel)",
   "language": "python",
   "name": "python3"
  },
  "language_info": {
   "codemirror_mode": {
    "name": "ipython",
    "version": 3
   },
   "file_extension": ".py",
   "mimetype": "text/x-python",
   "name": "python",
   "nbconvert_exporter": "python",
   "pygments_lexer": "ipython3",
   "version": "3.9.7"
  }
 },
 "nbformat": 4,
 "nbformat_minor": 5
}
