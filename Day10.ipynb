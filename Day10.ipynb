{
 "cells": [
  {
   "cell_type": "markdown",
   "id": "7cba1c82",
   "metadata": {},
   "source": [
    "## --- Day 10: Syntax Scoring ---\n",
    "\n",
    "You ask the submarine to determine the best route out of the deep-sea cave, but it only replies:\n",
    "\n",
    "Syntax error in navigation subsystem on line: all of them\n",
    "All of them?! The damage is worse than you thought. You bring up a copy of the navigation subsystem (your puzzle input).\n",
    "\n",
    "The navigation subsystem syntax is made of several lines containing chunks. There are one or more chunks on each line, and chunks contain zero or more other chunks. Adjacent chunks are not separated by any delimiter; if one chunk stops, the next chunk (if any) can immediately start. Every chunk must open and close with one of four legal pairs of matching characters:\n",
    "\n",
    "If a chunk opens with (, it must close with ).\n",
    "If a chunk opens with [, it must close with ].\n",
    "If a chunk opens with {, it must close with }.\n",
    "If a chunk opens with <, it must close with >.\n",
    "So, () is a legal chunk that contains no other chunks, as is []. More complex but valid chunks include ([]), {()()()}, <([{}])>, [<>({}){}[([])<>]], and even (((((((((()))))))))).\n",
    "\n",
    "Some lines are incomplete, but others are corrupted. Find and discard the corrupted lines first.\n",
    "\n",
    "A corrupted line is one where a chunk closes with the wrong character - that is, where the characters it opens and closes with do not form one of the four legal pairs listed above.\n",
    "\n",
    "Examples of corrupted chunks include (], {()()()>, (((()))}, and <([]){()}[{}]). Such a chunk can appear anywhere within a line, and its presence causes the whole line to be considered corrupted.\n",
    "\n",
    "For example, consider the following navigation subsystem:\n",
    "\n",
    "    [({(<(())[]>[[{[]{<()<>>\n",
    "    [(()[<>])]({[<{<<[]>>(\n",
    "    {([(<{}[<>[]}>{[]{[(<()>\n",
    "    (((({<>}<{<{<>}{[]{[]{}\n",
    "    [[<[([]))<([[{}[[()]]]\n",
    "    [{[{({}]{}}([{[{{{}}([]\n",
    "    {<[[]]>}<{[{[{[]{()[[[]\n",
    "    [<(<(<(<{}))><([]([]()\n",
    "    <{([([[(<>()){}]>(<<{{\n",
    "    <{([{{}}[<[[[<>{}]]]>[]]\n",
    "    \n",
    "Some of the lines aren't corrupted, just incomplete; you can ignore these lines for now. The remaining five lines are corrupted:\n",
    "\n",
    "{([(<{}[<>[]}>{[]{[(<()> - Expected ], but found } instead.\n",
    "[[<[([]))<([[{}[[()]]] - Expected ], but found ) instead.\n",
    "[{[{({}]{}}([{[{{{}}([] - Expected ), but found ] instead.\n",
    "[<(<(<(<{}))><([]([]() - Expected >, but found ) instead.\n",
    "<{([([[(<>()){}]>(<<{{ - Expected ], but found > instead.\n",
    "Stop at the first incorrect closing character on each corrupted line.\n",
    "\n",
    "Did you know that syntax checkers actually have contests to see who can get the high score for syntax errors in a file? It's true! To calculate the syntax error score for a line, take the first illegal character on the line and look it up in the following table:\n",
    "\n",
    "): 3 points.\n",
    "]: 57 points.\n",
    "}: 1197 points.\n",
    ">: 25137 points.\n",
    "\n",
    "In the above example, an illegal ) was found twice (2*3 = 6 points), an illegal ] was found once (57 points), an illegal } was found once (1197 points), and an illegal > was found once (25137 points). So, the total syntax error score for this file is 6+57+1197+25137 = 26397 points!\n",
    "\n",
    "Find the first illegal character in each corrupted line of the navigation subsystem. What is the total syntax error score for those errors?"
   ]
  },
  {
   "cell_type": "code",
   "execution_count": 2,
   "id": "0480765c",
   "metadata": {},
   "outputs": [
    {
     "data": {
      "text/plain": [
       "['(((<(([{{((<[[<><>]<()[]>]{[{}()]<(){}>}>[<([]{})>])(<<(<><>>[<><>]>(<{}()><(){}>)>[(([])<[]()>)])){<((<{}()',\n",
       " '{(({({<[[[{[{({}{})[[]{}]}[{(){}}((){})]][{((){}){[]{}}}<(()())<<><>>>]}]]]{([<{<<()()>([][])>({[]()}[{}<',\n",
       " '[[{<(([<<{(<[[()()]]{[[]()]<{}>}><{{{}()}<<>[]>><(())[()[]]>>)([{[[][]][()()]}{{()()}}](<{{}()}>))}[([{<<']"
      ]
     },
     "execution_count": 2,
     "metadata": {},
     "output_type": "execute_result"
    }
   ],
   "source": [
    "with open(\"day10.txt\") as f:\n",
    "    lines = [line.strip() for line in f.readlines()]\n",
    "lines[:3]  # so a list (array in C#)"
   ]
  },
  {
   "cell_type": "code",
   "execution_count": 4,
   "id": "706a993d",
   "metadata": {},
   "outputs": [
    {
     "data": {
      "text/plain": [
       "{']': '[', ')': '(', '}': '{', '>': '<'}"
      ]
     },
     "execution_count": 4,
     "metadata": {},
     "output_type": "execute_result"
    }
   ],
   "source": [
    "# creating a dictionary (Map structure for answers)\n",
    "matches = {\"]\":\"[\", \")\":\"(\",\"}\":\"{\",\">\":\"<\"}\n",
    "matches"
   ]
  },
  {
   "cell_type": "code",
   "execution_count": 7,
   "id": "29b4205e",
   "metadata": {},
   "outputs": [
    {
     "data": {
      "text/plain": [
       "dict_keys([']', ')', '}', '>'])"
      ]
     },
     "execution_count": 7,
     "metadata": {},
     "output_type": "execute_result"
    }
   ],
   "source": [
    "matches.keys()"
   ]
  },
  {
   "cell_type": "code",
   "execution_count": 5,
   "id": "6588d073",
   "metadata": {},
   "outputs": [
    {
     "data": {
      "text/plain": [
       "{']': 57, ')': 3, '}': 1197, '>': 25137}"
      ]
     },
     "execution_count": 5,
     "metadata": {},
     "output_type": "execute_result"
    }
   ],
   "source": [
    "scores = {\"]\":57, \")\":3,\"}\":1197,\">\":25137}\n",
    "scores"
   ]
  },
  {
   "cell_type": "code",
   "execution_count": 9,
   "id": "95e17c1c",
   "metadata": {},
   "outputs": [],
   "source": [
    "stack = [] # actually a list but we dont care"
   ]
  },
  {
   "cell_type": "code",
   "execution_count": 10,
   "id": "b96de18c",
   "metadata": {},
   "outputs": [
    {
     "ename": "IndexError",
     "evalue": "pop from empty list",
     "output_type": "error",
     "traceback": [
      "\u001b[1;31m---------------------------------------------------------------------------\u001b[0m",
      "\u001b[1;31mIndexError\u001b[0m                                Traceback (most recent call last)",
      "\u001b[1;32m~\\AppData\\Local\\Temp/ipykernel_22044/2667379430.py\u001b[0m in \u001b[0;36m<module>\u001b[1;34m\u001b[0m\n\u001b[1;32m----> 1\u001b[1;33m \u001b[0mstack\u001b[0m\u001b[1;33m.\u001b[0m\u001b[0mpop\u001b[0m\u001b[1;33m(\u001b[0m\u001b[1;33m)\u001b[0m\u001b[1;33m\u001b[0m\u001b[1;33m\u001b[0m\u001b[0m\n\u001b[0m",
      "\u001b[1;31mIndexError\u001b[0m: pop from empty list"
     ]
    }
   ],
   "source": [
    "stack.pop() # we might need to handle this empty case later on"
   ]
  },
  {
   "cell_type": "code",
   "execution_count": 6,
   "id": "02ca4af9",
   "metadata": {},
   "outputs": [
    {
     "data": {
      "text/plain": [
       "'(((<(([{{((<[[<><>]<()[]>]{[{}()]<(){}>}>[<([]{})>])(<<(<><>>[<><>]>(<{}()><(){}>)>[(([])<[]()>)])){<((<{}()'"
      ]
     },
     "execution_count": 6,
     "metadata": {},
     "output_type": "execute_result"
    }
   ],
   "source": [
    "first = lines[0]\n",
    "first"
   ]
  },
  {
   "cell_type": "code",
   "execution_count": 12,
   "id": "f37c0361",
   "metadata": {},
   "outputs": [
    {
     "name": "stdout",
     "output_type": "stream",
     "text": [
      "Corrupted character!! >\n",
      "Score 25137\n"
     ]
    }
   ],
   "source": [
    "for c in first:\n",
    "    if c in matches.keys(): \n",
    "        if stack.pop() == matches[c]: # everything is alright with the world we continue\n",
    "            continue # with the loop\n",
    "        else:\n",
    "            print(\"Corrupted character!!\", c)\n",
    "            print(\"Score\", scores[c])\n",
    "            break\n",
    "    else:\n",
    "        stack.append(c)"
   ]
  },
  {
   "cell_type": "code",
   "execution_count": 13,
   "id": "e8f09f66",
   "metadata": {},
   "outputs": [],
   "source": [
    "def getScore(line, matches, scores):\n",
    "    stack = []\n",
    "    for c in line:\n",
    "        if c in matches.keys(): \n",
    "            if stack.pop() == matches[c]: # everything is alright with the world we continue\n",
    "                continue # with the loop\n",
    "            else:\n",
    "#                 print(\"Corrupted character!!\", c)\n",
    "#                 print(\"Score\", scores[c])\n",
    "                return scores[c]\n",
    "        else:\n",
    "            stack.append(c)\n",
    "    return 0 # everything was good"
   ]
  },
  {
   "cell_type": "code",
   "execution_count": 15,
   "id": "9a62c117",
   "metadata": {},
   "outputs": [
    {
     "data": {
      "text/plain": [
       "25137"
      ]
     },
     "execution_count": 15,
     "metadata": {},
     "output_type": "execute_result"
    }
   ],
   "source": [
    "getScore(first, matches, scores)"
   ]
  },
  {
   "cell_type": "code",
   "execution_count": 18,
   "id": "adbe7794",
   "metadata": {},
   "outputs": [
    {
     "data": {
      "text/plain": [
       "[25137, 0, 25137, 25137, 0, 57, 1197, 1197, 25137, 3, 0, 0, 0, 0, 1197]"
      ]
     },
     "execution_count": 18,
     "metadata": {},
     "output_type": "execute_result"
    }
   ],
   "source": [
    "error_scores = [getScore(line, matches, scores) for line in lines]\n",
    "error_scores[:15]"
   ]
  },
  {
   "cell_type": "code",
   "execution_count": 19,
   "id": "4eb2ef74",
   "metadata": {},
   "outputs": [
    {
     "data": {
      "text/plain": [
       "323613"
      ]
     },
     "execution_count": 19,
     "metadata": {},
     "output_type": "execute_result"
    }
   ],
   "source": [
    "sum(error_scores)"
   ]
  },
  {
   "cell_type": "code",
   "execution_count": 20,
   "id": "551e82f1",
   "metadata": {},
   "outputs": [
    {
     "data": {
      "text/plain": [
       "{'[': ']', '(': ')', '{': '}', '<': '>'}"
      ]
     },
     "execution_count": 20,
     "metadata": {},
     "output_type": "execute_result"
    }
   ],
   "source": [
    "closers = {value:key for (key,value) in matches.items()}  # reversing the dictionary (Map)\n",
    "closers"
   ]
  },
  {
   "cell_type": "code",
   "execution_count": 21,
   "id": "8e4ea7a9",
   "metadata": {},
   "outputs": [],
   "source": [
    "closing_scores = {\"]\":2, \")\":1,\"}\":3,\">\":4}"
   ]
  },
  {
   "cell_type": "code",
   "execution_count": 34,
   "id": "3e01f06b",
   "metadata": {},
   "outputs": [
    {
     "data": {
      "text/plain": [
       "288957"
      ]
     },
     "execution_count": 34,
     "metadata": {},
     "output_type": "execute_result"
    }
   ],
   "source": [
    "def getClosingScore(parenthesis, closing_scores):\n",
    "    total = 0\n",
    "    for c in parenthesis:\n",
    "        total *= 5\n",
    "        total += closing_scores[c]\n",
    "    return total\n",
    "getClosingScore(\"}}]])})]\", closing_scores)"
   ]
  },
  {
   "cell_type": "code",
   "execution_count": 24,
   "id": "a017348b",
   "metadata": {},
   "outputs": [
    {
     "data": {
      "text/plain": [
       "5566"
      ]
     },
     "execution_count": 24,
     "metadata": {},
     "output_type": "execute_result"
    }
   ],
   "source": [
    "getClosingScore(\")}>]})\")"
   ]
  },
  {
   "cell_type": "code",
   "execution_count": 32,
   "id": "97741079",
   "metadata": {},
   "outputs": [
    {
     "data": {
      "text/plain": [
       "{'(': 1, '[': 2, '{': 3, '<': 4}"
      ]
     },
     "execution_count": 32,
     "metadata": {},
     "output_type": "execute_result"
    }
   ],
   "source": [
    "openers_scores = {\"(\":1,\"[\":2,\"{\":3,\"<\":4}  # my stack will have these unclosed ones so I will count those instead of converting\n",
    "# because there is 1 to 1 matching between openers and closers\n",
    "openers_scores"
   ]
  },
  {
   "cell_type": "code",
   "execution_count": 35,
   "id": "b47d1b5a",
   "metadata": {},
   "outputs": [],
   "source": [
    "def getGoodScore(line, matches):\n",
    "    stack = []\n",
    "    for c in line:\n",
    "        if c in matches.keys(): \n",
    "            if stack.pop() == matches[c]: # everything is alright with the world we continue\n",
    "                continue # with the loop\n",
    "            else:\n",
    "#                 print(\"Corrupted character!!\", c)\n",
    "#                 print(\"Score\", scores[c])\n",
    "                return 0 # here we return 0 on corruption\n",
    "        else:\n",
    "            stack.append(c)\n",
    "    \n",
    "    return getClosingScore(stack[::-1], openers_scores)  # i need to reverse the stack because I start with the last to enter "
   ]
  },
  {
   "cell_type": "code",
   "execution_count": 36,
   "id": "d53d61a4",
   "metadata": {},
   "outputs": [
    {
     "data": {
      "text/plain": [
       "0"
      ]
     },
     "execution_count": 36,
     "metadata": {},
     "output_type": "execute_result"
    }
   ],
   "source": [
    "getGoodScore(first, matches)"
   ]
  },
  {
   "cell_type": "code",
   "execution_count": 37,
   "id": "bb5f8785",
   "metadata": {},
   "outputs": [
    {
     "data": {
      "text/plain": [
       "[0, 27289760408, 0, 0, 7698571]"
      ]
     },
     "execution_count": 37,
     "metadata": {},
     "output_type": "execute_result"
    }
   ],
   "source": [
    "good_scores = [getGoodScore(line, matches) for line in lines]\n",
    "good_scores[:5]"
   ]
  },
  {
   "cell_type": "code",
   "execution_count": 38,
   "id": "7c38d7dc",
   "metadata": {},
   "outputs": [
    {
     "data": {
      "text/plain": [
       "[27289760408, 7698571, 3071035568, 27919410874, 6832816]"
      ]
     },
     "execution_count": 38,
     "metadata": {},
     "output_type": "execute_result"
    }
   ],
   "source": [
    "# we need to filter out 0 (the corrupted ones)\n",
    "good_scores_clean = [score for score in good_scores if score != 0]\n",
    "good_scores_clean[:5]"
   ]
  },
  {
   "cell_type": "code",
   "execution_count": 39,
   "id": "62412d97",
   "metadata": {},
   "outputs": [
    {
     "data": {
      "text/plain": [
       "[11786, 2540332, 3426748, 3695218, 6832816]"
      ]
     },
     "execution_count": 39,
     "metadata": {},
     "output_type": "execute_result"
    }
   ],
   "source": [
    "good_scores_sorted = sorted(good_scores_clean)\n",
    "good_scores_sorted[:5]"
   ]
  },
  {
   "cell_type": "code",
   "execution_count": 40,
   "id": "3ee69ac1",
   "metadata": {},
   "outputs": [
    {
     "data": {
      "text/plain": [
       "45"
      ]
     },
     "execution_count": 40,
     "metadata": {},
     "output_type": "execute_result"
    }
   ],
   "source": [
    "len(good_scores_sorted)"
   ]
  },
  {
   "cell_type": "code",
   "execution_count": 41,
   "id": "6a37d216",
   "metadata": {},
   "outputs": [
    {
     "data": {
      "text/plain": [
       "22"
      ]
     },
     "execution_count": 41,
     "metadata": {},
     "output_type": "execute_result"
    }
   ],
   "source": [
    "median_index = len(good_scores_sorted) // 2 # so basically floor\n",
    "median_index "
   ]
  },
  {
   "cell_type": "code",
   "execution_count": 42,
   "id": "c5e67350",
   "metadata": {},
   "outputs": [
    {
     "data": {
      "text/plain": [
       "3103006161"
      ]
     },
     "execution_count": 42,
     "metadata": {},
     "output_type": "execute_result"
    }
   ],
   "source": [
    "median = good_scores_sorted[median_index]\n",
    "median"
   ]
  },
  {
   "cell_type": "code",
   "execution_count": 44,
   "id": "3226d1c1",
   "metadata": {},
   "outputs": [],
   "source": [
    "# lazy way is to use a built in module\n",
    "import statistics"
   ]
  },
  {
   "cell_type": "code",
   "execution_count": 45,
   "id": "cff1f27e",
   "metadata": {},
   "outputs": [
    {
     "data": {
      "text/plain": [
       "3103006161"
      ]
     },
     "execution_count": 45,
     "metadata": {},
     "output_type": "execute_result"
    }
   ],
   "source": [
    "statistics.median(good_scores_clean)"
   ]
  }
 ],
 "metadata": {
  "kernelspec": {
   "display_name": "Python 3 (ipykernel)",
   "language": "python",
   "name": "python3"
  },
  "language_info": {
   "codemirror_mode": {
    "name": "ipython",
    "version": 3
   },
   "file_extension": ".py",
   "mimetype": "text/x-python",
   "name": "python",
   "nbconvert_exporter": "python",
   "pygments_lexer": "ipython3",
   "version": "3.9.7"
  }
 },
 "nbformat": 4,
 "nbformat_minor": 5
}
