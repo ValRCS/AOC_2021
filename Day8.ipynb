{
 "cells": [
  {
   "cell_type": "markdown",
   "id": "588d51e6",
   "metadata": {},
   "source": [
    "## --- Day 8: Seven Segment Search ---\n",
    "    \n",
    "You barely reach the safety of the cave when the whale smashes into the cave mouth, collapsing it. Sensors indicate another exit to this cave at a much greater depth, so you have no choice but to press on.\n",
    "\n",
    "As your submarine slowly makes its way through the cave system, you notice that the four-digit seven-segment displays in your submarine are malfunctioning; they must have been damaged during the escape. You'll be in a lot of trouble without them, so you'd better figure out what's wrong.\n",
    "\n",
    "Each digit of a seven-segment display is rendered by turning on or off any of seven segments named a through g:\n",
    "\n",
    "      0:      1:      2:      3:      4:\n",
    "     aaaa    ....    aaaa    aaaa    ....\n",
    "    b    c  .    c  .    c  .    c  b    c\n",
    "    b    c  .    c  .    c  .    c  b    c\n",
    "     ....    ....    dddd    dddd    dddd\n",
    "    e    f  .    f  e    .  .    f  .    f\n",
    "    e    f  .    f  e    .  .    f  .    f\n",
    "     gggg    ....    gggg    gggg    ....\n",
    "\n",
    "      5:      6:      7:      8:      9:\n",
    "     aaaa    aaaa    aaaa    aaaa    aaaa\n",
    "    b    .  b    .  .    c  b    c  b    c\n",
    "    b    .  b    .  .    c  b    c  b    c\n",
    "     dddd    dddd    ....    dddd    dddd\n",
    "    .    f  e    f  .    f  e    f  .    f\n",
    "    .    f  e    f  .    f  e    f  .    f\n",
    "     gggg    gggg    ....    gggg    gggg\n",
    "        \n",
    "So, to render a 1, only segments c and f would be turned on; the rest would be off. To render a 7, only segments a, c, and f would be turned on.\n",
    "\n",
    "The problem is that the signals which control the segments have been mixed up on each display. The submarine is still trying to display numbers by producing output on signal wires a through g, but those wires are connected to segments randomly. Worse, the wire/segment connections are mixed up separately for each four-digit display! (All of the digits within a display use the same connections, though.)\n",
    "\n",
    "So, you might know that only signal wires b and g are turned on, but that doesn't mean segments b and g are turned on: the only digit that uses two segments is 1, so it must mean segments c and f are meant to be on. With just that information, you still can't tell which wire (b/g) goes to which segment (c/f). For that, you'll need to collect more information.\n",
    "\n",
    "For each display, you watch the changing signals for a while, make a note of all ten unique signal patterns you see, and then write down a single four digit output value (your puzzle input). Using the signal patterns, you should be able to work out which pattern corresponds to which digit.\n",
    "\n",
    "For example, here is what you might see in a single entry in your notes:\n",
    "\n",
    "    acedgfb cdfbe gcdfa fbcad dab cefabd cdfgeb eafb cagedb ab |\n",
    "    cdfeb fcadb cdfeb cdbaf\n",
    "    \n",
    "(The entry is wrapped here to two lines so it fits; in your notes, it will all be on a single line.)\n",
    "\n",
    "Each entry consists of ten unique signal patterns, a | delimiter, and finally the four digit output value. Within an entry, the same wire/segment connections are used (but you don't know what the connections actually are). The unique signal patterns correspond to the ten different ways the submarine tries to render a digit using the current wire/segment connections. Because 7 is the only digit that uses three segments, dab in the above example means that to render a 7, signal lines d, a, and b are on. Because 4 is the only digit that uses four segments, eafb means that to render a 4, signal lines e, a, f, and b are on.\n",
    "\n",
    "Using this information, you should be able to work out which combination of signal wires corresponds to each of the ten digits. Then, you can decode the four digit output value. Unfortunately, in the above example, all of the digits in the output value (cdfeb fcadb cdfeb cdbaf) use five segments and are more difficult to deduce.\n",
    "\n",
    "For now, focus on the easy digits. Consider this larger example:\n",
    "\n",
    "    be cfbegad cbdgef fgaecd cgeb fdcge agebfd fecdb fabcd edb |\n",
    "    fdgacbe cefdb cefbgd gcbe\n",
    "    edbfga begcd cbg gc gcadebf fbgde acbgfd abcde gfcbed gfec |\n",
    "    fcgedb cgb dgebacf gc\n",
    "    fgaebd cg bdaec gdafb agbcfd gdcbef bgcad gfac gcb cdgabef |\n",
    "    cg cg fdcagb cbg\n",
    "    fbegcd cbd adcefb dageb afcb bc aefdc ecdab fgdeca fcdbega |\n",
    "    efabcd cedba gadfec cb\n",
    "    aecbfdg fbg gf bafeg dbefa fcge gcbea fcaegb dgceab fcbdga |\n",
    "    gecf egdcabf bgf bfgea\n",
    "    fgeab ca afcebg bdacfeg cfaedg gcfdb baec bfadeg bafgc acf |\n",
    "    gebdcfa ecba ca fadegcb\n",
    "    dbcfg fgd bdegcaf fgec aegbdf ecdfab fbedc dacgb gdcebf gf |\n",
    "    cefg dcbef fcge gbcadfe\n",
    "    bdfegc cbegaf gecbf dfcage bdacg ed bedf ced adcbefg gebcd |\n",
    "    ed bcgafe cdgba cbgef\n",
    "    egadfb cdbfeg cegd fecab cgb gbdefca cg fgcdab egfdb bfceg |\n",
    "    gbdfcae bgc cg cgb\n",
    "    gcafb gcf dcaebfg ecagb gf abcdeg gaef cafbge fdbac fegbdc |\n",
    "    fgae cfgab fg bagce\n",
    "\n",
    "Because the digits 1, 4, 7, and 8 each use a unique number of segments, you should be able to tell which combinations of signals correspond to those digits. Counting only digits in the output values (the part after | on each line), in the above example, there are 26 instances of digits that use a unique number of segments (highlighted above).\n",
    "\n",
    "In the output values, how many times do digits 1, 4, 7, or 8 appear?"
   ]
  },
  {
   "cell_type": "code",
   "execution_count": 1,
   "id": "704e01a1",
   "metadata": {},
   "outputs": [
    {
     "data": {
      "text/plain": [
       "200"
      ]
     },
     "execution_count": 1,
     "metadata": {},
     "output_type": "execute_result"
    }
   ],
   "source": [
    "with open(\"day8.txt\") as f:\n",
    "    lines = f.readlines()\n",
    "len(lines)"
   ]
  },
  {
   "cell_type": "code",
   "execution_count": 2,
   "id": "732b14ce",
   "metadata": {},
   "outputs": [
    {
     "data": {
      "text/plain": [
       "[('dcga cadgbfe gecba cbfde eda cdbea gbadfe fegcba bedgca da',\n",
       "  'bgefdac bdace ad agcd'),\n",
       " ('fe ecf fdbagec dcgfab defbca efbcga daceg cfdea bfed fdbca',\n",
       "  'aefdc fbde abdefc dcgae'),\n",
       " ('fbg cgafe bf bfdc ebdcag fgcdba gbdecaf bcfag badgc gdefab',\n",
       "  'bfg bf bf bdgeca'),\n",
       " ('bgedf gecabd cd cadbgf agcbe aedcgbf ecgbd ecda agfecb gcd',\n",
       "  'bdacfge cd cade dcae'),\n",
       " ('cedabf gcfab cad abegcd fcbedag aedbf gbedaf dc ecdf bdfca',\n",
       "  'cad dc dc bedacfg')]"
      ]
     },
     "execution_count": 2,
     "metadata": {},
     "output_type": "execute_result"
    }
   ],
   "source": [
    "tlines = [(t[0].strip(),t[1].strip()) for line in lines if (t := line.split(\"|\"))]\n",
    "tlines[:5]"
   ]
  },
  {
   "cell_type": "code",
   "execution_count": 3,
   "id": "644ae23c",
   "metadata": {},
   "outputs": [
    {
     "data": {
      "text/plain": [
       "['bgefdac bdace ad agcd', 'aefdc fbde abdefc dcgae', 'bfg bf bf bdgeca']"
      ]
     },
     "execution_count": 3,
     "metadata": {},
     "output_type": "execute_result"
    }
   ],
   "source": [
    "outs = [t[1] for t in tlines]\n",
    "outs[:3]"
   ]
  },
  {
   "cell_type": "code",
   "execution_count": 4,
   "id": "5a985d4d",
   "metadata": {},
   "outputs": [
    {
     "data": {
      "text/plain": [
       "[['bgefdac', 'bdace', 'ad', 'agcd'],\n",
       " ['aefdc', 'fbde', 'abdefc', 'dcgae'],\n",
       " ['bfg', 'bf', 'bf', 'bdgeca']]"
      ]
     },
     "execution_count": 4,
     "metadata": {},
     "output_type": "execute_result"
    }
   ],
   "source": [
    "outs = [t.split() for t in outs]\n",
    "outs[:3]"
   ]
  },
  {
   "cell_type": "code",
   "execution_count": 7,
   "id": "a8e7191e",
   "metadata": {},
   "outputs": [
    {
     "data": {
      "text/plain": [
       "[[7, 5, 2, 4], [5, 4, 6, 5], [3, 2, 2, 6]]"
      ]
     },
     "execution_count": 7,
     "metadata": {},
     "output_type": "execute_result"
    }
   ],
   "source": [
    "lens = [[len(d) for d in line] for line in outs]\n",
    "lens[:3]"
   ]
  },
  {
   "cell_type": "code",
   "execution_count": 8,
   "id": "8807294a",
   "metadata": {},
   "outputs": [
    {
     "data": {
      "text/plain": [
       "[[1, 1, 1], [1], [1, 1, 1]]"
      ]
     },
     "execution_count": 8,
     "metadata": {},
     "output_type": "execute_result"
    }
   ],
   "source": [
    "easy = [[1 for d in line if d in [2,3,4,7]] for line in lens]\n",
    "easy[:3]"
   ]
  },
  {
   "cell_type": "code",
   "execution_count": 9,
   "id": "9e615de8",
   "metadata": {},
   "outputs": [
    {
     "data": {
      "text/plain": [
       "[3, 1, 3]"
      ]
     },
     "execution_count": 9,
     "metadata": {},
     "output_type": "execute_result"
    }
   ],
   "source": [
    "easy_sums = [sum(line) for line in easy]\n",
    "easy_sums[:3]"
   ]
  },
  {
   "cell_type": "code",
   "execution_count": 10,
   "id": "e0d6f69d",
   "metadata": {},
   "outputs": [
    {
     "data": {
      "text/plain": [
       "479"
      ]
     },
     "execution_count": 10,
     "metadata": {},
     "output_type": "execute_result"
    }
   ],
   "source": [
    "sum(easy_sums)"
   ]
  },
  {
   "cell_type": "code",
   "execution_count": 11,
   "id": "e8861bcb",
   "metadata": {},
   "outputs": [
    {
     "data": {
      "text/plain": [
       "(['a', 'l', 's', 'u'], ['a', 'l', 's', 'u'])"
      ]
     },
     "execution_count": 11,
     "metadata": {},
     "output_type": "execute_result"
    }
   ],
   "source": [
    "sorted(\"alus\"),sorted(\"sula\")"
   ]
  },
  {
   "cell_type": "code",
   "execution_count": 17,
   "id": "b8266de8",
   "metadata": {},
   "outputs": [
    {
     "data": {
      "text/plain": [
       "{'a': '', 'b': '', 'c': '', 'd': '', 'e': '', 'f': '', 'g': ''}"
      ]
     },
     "execution_count": 17,
     "metadata": {},
     "output_type": "execute_result"
    }
   ],
   "source": [
    "d = {c:\"\" for c in list(\"abcdefg\")}\n",
    "d"
   ]
  },
  {
   "cell_type": "code",
   "execution_count": 20,
   "id": "abb4c984",
   "metadata": {},
   "outputs": [
    {
     "data": {
      "text/plain": [
       "['da',\n",
       " 'eda',\n",
       " 'dcga',\n",
       " 'gecba',\n",
       " 'cbfde',\n",
       " 'cdbea',\n",
       " 'gbadfe',\n",
       " 'fegcba',\n",
       " 'bedgca',\n",
       " 'cadgbfe']"
      ]
     },
     "execution_count": 20,
     "metadata": {},
     "output_type": "execute_result"
    }
   ],
   "source": [
    "scr = sorted(tlines[0][0].split(), key=lambda x: len(x))\n",
    "scr"
   ]
  },
  {
   "cell_type": "code",
   "execution_count": 23,
   "id": "0ebc3e50",
   "metadata": {},
   "outputs": [
    {
     "data": {
      "text/plain": [
       "[{'a', 'd'},\n",
       " {'a', 'd', 'e'},\n",
       " {'a', 'c', 'd', 'g'},\n",
       " {'a', 'b', 'c', 'e', 'g'},\n",
       " {'b', 'c', 'd', 'e', 'f'},\n",
       " {'a', 'b', 'c', 'd', 'e'},\n",
       " {'a', 'b', 'd', 'e', 'f', 'g'},\n",
       " {'a', 'b', 'c', 'e', 'f', 'g'},\n",
       " {'a', 'b', 'c', 'd', 'e', 'g'},\n",
       " {'a', 'b', 'c', 'd', 'e', 'f', 'g'}]"
      ]
     },
     "execution_count": 23,
     "metadata": {},
     "output_type": "execute_result"
    }
   ],
   "source": [
    "ss = [set(s) for s in scr]\n",
    "ss"
   ]
  },
  {
   "cell_type": "code",
   "execution_count": 27,
   "id": "0effc335",
   "metadata": {},
   "outputs": [
    {
     "data": {
      "text/plain": [
       "{'a': {'e'}, 'b': '', 'c': 'd', 'd': '', 'e': '', 'f': '', 'g': ''}"
      ]
     },
     "execution_count": 27,
     "metadata": {},
     "output_type": "execute_result"
    }
   ],
   "source": [
    "d['a']=ss[1]-ss[0]\n",
    "d"
   ]
  },
  {
   "cell_type": "code",
   "execution_count": 40,
   "id": "4bbd589f",
   "metadata": {},
   "outputs": [
    {
     "data": {
      "text/plain": [
       "{'a'}"
      ]
     },
     "execution_count": 40,
     "metadata": {},
     "output_type": "execute_result"
    }
   ],
   "source": [
    "ss[0] & ss[6] & ss[7] & ss[8]"
   ]
  },
  {
   "cell_type": "code",
   "execution_count": 41,
   "id": "7debb89f",
   "metadata": {},
   "outputs": [
    {
     "data": {
      "text/plain": [
       "{'a': {'e'},\n",
       " 'b': {'g'},\n",
       " 'c': {'d'},\n",
       " 'd': {'c'},\n",
       " 'e': {'f'},\n",
       " 'f': {'a'},\n",
       " 'g': {'b'}}"
      ]
     },
     "execution_count": 41,
     "metadata": {},
     "output_type": "execute_result"
    }
   ],
   "source": [
    "d['f'] = ss[0] & ss[6] & ss[7] & ss[8]\n",
    "d"
   ]
  },
  {
   "cell_type": "code",
   "execution_count": 42,
   "id": "31a4793b",
   "metadata": {},
   "outputs": [
    {
     "data": {
      "text/plain": [
       "{'a': {'e'},\n",
       " 'b': {'g'},\n",
       " 'c': {'d'},\n",
       " 'd': {'c'},\n",
       " 'e': {'f'},\n",
       " 'f': {'a'},\n",
       " 'g': {'b'}}"
      ]
     },
     "execution_count": 42,
     "metadata": {},
     "output_type": "execute_result"
    }
   ],
   "source": [
    "d['c']= ss[0] - d['f']\n",
    "d"
   ]
  },
  {
   "cell_type": "code",
   "execution_count": 43,
   "id": "dcabf472",
   "metadata": {},
   "outputs": [
    {
     "data": {
      "text/plain": [
       "{'b', 'e'}"
      ]
     },
     "execution_count": 43,
     "metadata": {},
     "output_type": "execute_result"
    }
   ],
   "source": [
    "(ss[3] & ss[4] & ss[5] & ss[6] & ss[7] & ss[8])"
   ]
  },
  {
   "cell_type": "code",
   "execution_count": 35,
   "id": "e6760634",
   "metadata": {},
   "outputs": [
    {
     "data": {
      "text/plain": [
       "{'a': {'e'}, 'b': '', 'c': {'d'}, 'd': '', 'e': '', 'f': {'a'}, 'g': {'b'}}"
      ]
     },
     "execution_count": 35,
     "metadata": {},
     "output_type": "execute_result"
    }
   ],
   "source": [
    "d['g'] = (ss[3] & ss[4] & ss[5] & ss[6] & ss[7] & ss[8]) - (ss[0] | ss[1] | ss[2])\n",
    "d"
   ]
  },
  {
   "cell_type": "code",
   "execution_count": 36,
   "id": "a706dcdd",
   "metadata": {},
   "outputs": [
    {
     "data": {
      "text/plain": [
       "{'b', 'c', 'e'}"
      ]
     },
     "execution_count": 36,
     "metadata": {},
     "output_type": "execute_result"
    }
   ],
   "source": [
    "(ss[3] & ss[4] & ss[5])"
   ]
  },
  {
   "cell_type": "code",
   "execution_count": 37,
   "id": "cd4fed2a",
   "metadata": {},
   "outputs": [
    {
     "data": {
      "text/plain": [
       "{'a': {'e'}, 'b': '', 'c': {'d'}, 'd': {'c'}, 'e': '', 'f': {'a'}, 'g': {'b'}}"
      ]
     },
     "execution_count": 37,
     "metadata": {},
     "output_type": "execute_result"
    }
   ],
   "source": [
    "d['d'] = (ss[3] & ss[4] & ss[5]) - d['a'] - d['g']\n",
    "d"
   ]
  },
  {
   "cell_type": "code",
   "execution_count": 38,
   "id": "18247205",
   "metadata": {},
   "outputs": [
    {
     "data": {
      "text/plain": [
       "{'a': {'e'},\n",
       " 'b': {'g'},\n",
       " 'c': {'d'},\n",
       " 'd': {'c'},\n",
       " 'e': '',\n",
       " 'f': {'a'},\n",
       " 'g': {'b'}}"
      ]
     },
     "execution_count": 38,
     "metadata": {},
     "output_type": "execute_result"
    }
   ],
   "source": [
    "d['b'] = ss[2] - d['c'] - d['d'] - d['f']\n",
    "d"
   ]
  },
  {
   "cell_type": "code",
   "execution_count": 39,
   "id": "b5725a77",
   "metadata": {},
   "outputs": [
    {
     "data": {
      "text/plain": [
       "{'a': {'e'},\n",
       " 'b': {'g'},\n",
       " 'c': {'d'},\n",
       " 'd': {'c'},\n",
       " 'e': {'f'},\n",
       " 'f': {'a'},\n",
       " 'g': {'b'}}"
      ]
     },
     "execution_count": 39,
     "metadata": {},
     "output_type": "execute_result"
    }
   ],
   "source": [
    "d['e'] = ss[9] - d['a'] - d['b'] - d['c'] - d['d'] - d['f'] - d['g']\n",
    "d"
   ]
  },
  {
   "cell_type": "code",
   "execution_count": 45,
   "id": "67437d6a",
   "metadata": {},
   "outputs": [
    {
     "data": {
      "text/plain": [
       "{'a': 'e', 'b': 'g', 'c': 'd', 'd': 'c', 'e': 'f', 'f': 'a', 'g': 'b'}"
      ]
     },
     "execution_count": 45,
     "metadata": {},
     "output_type": "execute_result"
    }
   ],
   "source": [
    "dtable = {key:value.pop() for key,value in d.items()}\n",
    "dtable"
   ]
  },
  {
   "cell_type": "code",
   "execution_count": 50,
   "id": "97f07a09",
   "metadata": {},
   "outputs": [],
   "source": [
    "def tranD(segs, dtable):\n",
    "    l = [dtable[c] for c in segs]\n",
    "    txt = \"\".join(sorted(l))\n",
    "    return txt"
   ]
  },
  {
   "cell_type": "code",
   "execution_count": 51,
   "id": "ed9eac96",
   "metadata": {},
   "outputs": [
    {
     "data": {
      "text/plain": [
       "'ad'"
      ]
     },
     "execution_count": 51,
     "metadata": {},
     "output_type": "execute_result"
    }
   ],
   "source": [
    "tranD(\"cf\", dtable)"
   ]
  },
  {
   "cell_type": "code",
   "execution_count": 56,
   "id": "2a900593",
   "metadata": {},
   "outputs": [
    {
     "data": {
      "text/plain": [
       "['abdefg',\n",
       " 'ad',\n",
       " 'bcdef',\n",
       " 'abcde',\n",
       " 'acdg',\n",
       " 'abceg',\n",
       " 'abcefg',\n",
       " 'ade',\n",
       " 'abcdefg',\n",
       " 'abcdeg']"
      ]
     },
     "execution_count": 56,
     "metadata": {},
     "output_type": "execute_result"
    }
   ],
   "source": [
    "nlist = [\n",
    "    tranD(\"abcefg\", dtable),\n",
    "    tranD(\"cf\", dtable),\n",
    "    tranD(\"acdeg\", dtable),\n",
    "    tranD(\"acdfg\", dtable),\n",
    "    tranD(\"bcdf\", dtable),\n",
    "    tranD(\"abdfg\", dtable),\n",
    "    tranD(\"abdefg\", dtable),\n",
    "    tranD(\"acf\", dtable),\n",
    "    tranD(\"abcdefg\", dtable),\n",
    "    tranD(\"abcdfg\", dtable),    \n",
    "]\n",
    "nlist"
   ]
  },
  {
   "cell_type": "code",
   "execution_count": 67,
   "id": "dbd6c792",
   "metadata": {},
   "outputs": [
    {
     "data": {
      "text/plain": [
       "{'abdefg': '0',\n",
       " 'ad': '1',\n",
       " 'bcdef': '2',\n",
       " 'abcde': '3',\n",
       " 'acdg': '4',\n",
       " 'abceg': '5',\n",
       " 'abcefg': '6',\n",
       " 'ade': '7',\n",
       " 'abcdefg': '8',\n",
       " 'abcdeg': '9'}"
      ]
     },
     "execution_count": 67,
     "metadata": {},
     "output_type": "execute_result"
    }
   ],
   "source": [
    "nd = {k:str(n) for (k,n) in zip(nlist, range(10))}\n",
    "nd"
   ]
  },
  {
   "cell_type": "code",
   "execution_count": 68,
   "id": "80395c28",
   "metadata": {},
   "outputs": [
    {
     "data": {
      "text/plain": [
       "['bgefdac', 'bdace', 'ad', 'agcd']"
      ]
     },
     "execution_count": 68,
     "metadata": {},
     "output_type": "execute_result"
    }
   ],
   "source": [
    "outs[0]"
   ]
  },
  {
   "cell_type": "code",
   "execution_count": 69,
   "id": "ede5077b",
   "metadata": {},
   "outputs": [
    {
     "data": {
      "text/plain": [
       "['8', '3', '1', '4']"
      ]
     },
     "execution_count": 69,
     "metadata": {},
     "output_type": "execute_result"
    }
   ],
   "source": [
    "nums = [nd[\"\".join(sorted(t))] for t in outs[0]]\n",
    "nums"
   ]
  },
  {
   "cell_type": "code",
   "execution_count": 70,
   "id": "89f0abad",
   "metadata": {},
   "outputs": [
    {
     "data": {
      "text/plain": [
       "8314"
      ]
     },
     "execution_count": 70,
     "metadata": {},
     "output_type": "execute_result"
    }
   ],
   "source": [
    "int(\"\".join(nums), 10)"
   ]
  },
  {
   "cell_type": "code",
   "execution_count": 71,
   "id": "59d32c08",
   "metadata": {},
   "outputs": [],
   "source": [
    "def intFromTable(out, num_dict):\n",
    "    nums = [num_dict[\"\".join(sorted(t))] for t in out]\n",
    "    return int(\"\".join(nums), 10)"
   ]
  },
  {
   "cell_type": "code",
   "execution_count": 72,
   "id": "d7b64f98",
   "metadata": {},
   "outputs": [
    {
     "data": {
      "text/plain": [
       "8314"
      ]
     },
     "execution_count": 72,
     "metadata": {},
     "output_type": "execute_result"
    }
   ],
   "source": [
    "intFromTable(outs[0], nd)"
   ]
  },
  {
   "cell_type": "code",
   "execution_count": 73,
   "id": "6262cd55",
   "metadata": {},
   "outputs": [],
   "source": [
    "def createNumDict(ins):\n",
    "    scr = sorted(ins.split(), key=lambda x: len(x))\n",
    "    ss = [set(s) for s in scr]\n",
    "    d = {c:\"\" for c in list(\"abcdefg\")}\n",
    "    d['a']=ss[1]-ss[0]\n",
    "    d['f'] = ss[0] & ss[6] & ss[7] & ss[8]\n",
    "    d['c']= ss[0] - d['f']\n",
    "    d['g'] = (ss[3] & ss[4] & ss[5] & ss[6] & ss[7] & ss[8]) - (ss[0] | ss[1] | ss[2])\n",
    "    d['d'] = (ss[3] & ss[4] & ss[5]) - d['a'] - d['g']\n",
    "    d['b'] = ss[2] - d['c'] - d['d'] - d['f']\n",
    "    d['e'] = ss[9] - d['a'] - d['b'] - d['c'] - d['d'] - d['f'] - d['g']\n",
    "    dtable = {key:value.pop() for key,value in d.items()}\n",
    "    nlist = [\n",
    "        tranD(\"abcefg\", dtable),\n",
    "        tranD(\"cf\", dtable),\n",
    "        tranD(\"acdeg\", dtable),\n",
    "        tranD(\"acdfg\", dtable),\n",
    "        tranD(\"bcdf\", dtable),\n",
    "        tranD(\"abdfg\", dtable),\n",
    "        tranD(\"abdefg\", dtable),\n",
    "        tranD(\"acf\", dtable),\n",
    "        tranD(\"abcdefg\", dtable),\n",
    "        tranD(\"abcdfg\", dtable),    \n",
    "    ]\n",
    "    nd = {k:str(n) for (k,n) in zip(nlist, range(10))}\n",
    "    return nd"
   ]
  },
  {
   "cell_type": "code",
   "execution_count": 75,
   "id": "dd64bb20",
   "metadata": {},
   "outputs": [
    {
     "data": {
      "text/plain": [
       "True"
      ]
     },
     "execution_count": 75,
     "metadata": {},
     "output_type": "execute_result"
    }
   ],
   "source": [
    "t1 = createNumDict(tlines[0][0])\n",
    "t1 == nd"
   ]
  },
  {
   "cell_type": "code",
   "execution_count": 80,
   "id": "9053b43d",
   "metadata": {},
   "outputs": [
    {
     "data": {
      "text/plain": [
       "8314"
      ]
     },
     "execution_count": 80,
     "metadata": {},
     "output_type": "execute_result"
    }
   ],
   "source": [
    "intFromTable(outs[0], createNumDict(tlines[0][0]))"
   ]
  },
  {
   "cell_type": "code",
   "execution_count": 82,
   "id": "66fd0f34",
   "metadata": {},
   "outputs": [
    {
     "data": {
      "text/plain": [
       "[8314, 3492, 7116, 8144, 7118]"
      ]
     },
     "execution_count": 82,
     "metadata": {},
     "output_type": "execute_result"
    }
   ],
   "source": [
    "values = [intFromTable(out, createNumDict(inp[0])) for (out,inp) in zip(outs, tlines)]\n",
    "values[:5]"
   ]
  },
  {
   "cell_type": "code",
   "execution_count": 83,
   "id": "dbf05b99",
   "metadata": {},
   "outputs": [
    {
     "data": {
      "text/plain": [
       "1041746"
      ]
     },
     "execution_count": 83,
     "metadata": {},
     "output_type": "execute_result"
    }
   ],
   "source": [
    "sum(values)"
   ]
  }
 ],
 "metadata": {
  "kernelspec": {
   "display_name": "Python 3 (ipykernel)",
   "language": "python",
   "name": "python3"
  },
  "language_info": {
   "codemirror_mode": {
    "name": "ipython",
    "version": 3
   },
   "file_extension": ".py",
   "mimetype": "text/x-python",
   "name": "python",
   "nbconvert_exporter": "python",
   "pygments_lexer": "ipython3",
   "version": "3.9.7"
  }
 },
 "nbformat": 4,
 "nbformat_minor": 5
}
