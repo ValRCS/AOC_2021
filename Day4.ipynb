{
 "cells": [
  {
   "cell_type": "code",
   "execution_count": 4,
   "id": "e18b06c8",
   "metadata": {},
   "outputs": [],
   "source": [
    "import pandas as pd\n",
    "import numpy as np"
   ]
  },
  {
   "cell_type": "code",
   "execution_count": 3,
   "id": "020dbbde",
   "metadata": {},
   "outputs": [
    {
     "data": {
      "text/plain": [
       "'1.3.4'"
      ]
     },
     "execution_count": 3,
     "metadata": {},
     "output_type": "execute_result"
    }
   ],
   "source": [
    "pd.__version__"
   ]
  },
  {
   "cell_type": "code",
   "execution_count": 1,
   "id": "c151fb43",
   "metadata": {},
   "outputs": [
    {
     "name": "stdout",
     "output_type": "stream",
     "text": [
      "Python 3.9.7\n"
     ]
    }
   ],
   "source": [
    "!python --version"
   ]
  },
  {
   "cell_type": "code",
   "execution_count": 72,
   "id": "04b0659b",
   "metadata": {},
   "outputs": [],
   "source": [
    "class Bingo:\n",
    "    def __init__(self, arr2d=((),)):\n",
    "        self.df = pd.DataFrame(arr2d)\n",
    "        self.mark = pd.DataFrame(np.zeros(self.df.shape))\n",
    "        self.mark.index = self.df.index\n",
    "        self.mark.columns = self.df.columns\n",
    "        self.mark = self.mark.astype(\"bool\")\n",
    "        self.won = False\n",
    "    def call(self, num):\n",
    "        self.mark = self.mark | (self.df == num)\n",
    "        if self.check():\n",
    "            score = self.score()\n",
    "            print(\"Found score!\", score)\n",
    "            self.won = True\n",
    "            return score\n",
    "    def check(self):\n",
    "        is_col = (self.mark.sum() == self.mark.shape[0]).sum()\n",
    "        is_row = (self.mark.T.sum() == self.mark.shape[1]).sum()\n",
    "#         print(is_col, is_row)\n",
    "        return is_col or is_row\n",
    "    def score(self):\n",
    "        return self.df[~self.mark].sum().sum().astype('int')  # we need sum of values NOT marked!"
   ]
  },
  {
   "cell_type": "code",
   "execution_count": 13,
   "id": "ecf5698e",
   "metadata": {},
   "outputs": [],
   "source": [
    "def readDay4(fname):\n",
    "    with open(fname) as f:\n",
    "        lines = f.readlines()\n",
    "    calls = [int(n) for n in lines[0].split(\",\")]\n",
    "    boards = [[]]\n",
    "\n",
    "    for line in lines[2:]:\n",
    "        if not len(line.strip()):\n",
    "            boards.append([])\n",
    "            continue\n",
    "        board = boards[-1]\n",
    "        board.append([int(n.strip()) for n in line.strip().split()])\n",
    "    return calls, boards    "
   ]
  },
  {
   "cell_type": "code",
   "execution_count": 14,
   "id": "f5572160",
   "metadata": {},
   "outputs": [],
   "source": [
    "calls, boards = readDay4(\"day4.txt\")"
   ]
  },
  {
   "cell_type": "code",
   "execution_count": 15,
   "id": "a1da14a6",
   "metadata": {},
   "outputs": [
    {
     "data": {
      "text/plain": [
       "[26,\n",
       " 38,\n",
       " 2,\n",
       " 15,\n",
       " 36,\n",
       " 8,\n",
       " 12,\n",
       " 46,\n",
       " 88,\n",
       " 72,\n",
       " 32,\n",
       " 35,\n",
       " 64,\n",
       " 19,\n",
       " 5,\n",
       " 66,\n",
       " 20,\n",
       " 52,\n",
       " 74,\n",
       " 3,\n",
       " 59,\n",
       " 94,\n",
       " 45,\n",
       " 56,\n",
       " 0,\n",
       " 6,\n",
       " 67,\n",
       " 24,\n",
       " 97,\n",
       " 50,\n",
       " 92,\n",
       " 93,\n",
       " 84,\n",
       " 65,\n",
       " 71,\n",
       " 90,\n",
       " 96,\n",
       " 21,\n",
       " 87,\n",
       " 75,\n",
       " 58,\n",
       " 82,\n",
       " 14,\n",
       " 53,\n",
       " 95,\n",
       " 27,\n",
       " 49,\n",
       " 69,\n",
       " 16,\n",
       " 89,\n",
       " 37,\n",
       " 13,\n",
       " 1,\n",
       " 81,\n",
       " 60,\n",
       " 79,\n",
       " 51,\n",
       " 18,\n",
       " 48,\n",
       " 33,\n",
       " 42,\n",
       " 63,\n",
       " 39,\n",
       " 34,\n",
       " 62,\n",
       " 55,\n",
       " 47,\n",
       " 54,\n",
       " 23,\n",
       " 83,\n",
       " 77,\n",
       " 9,\n",
       " 70,\n",
       " 68,\n",
       " 85,\n",
       " 86,\n",
       " 91,\n",
       " 41,\n",
       " 4,\n",
       " 61,\n",
       " 78,\n",
       " 31,\n",
       " 22,\n",
       " 76,\n",
       " 40,\n",
       " 17,\n",
       " 30,\n",
       " 98,\n",
       " 44,\n",
       " 25,\n",
       " 80,\n",
       " 73,\n",
       " 11,\n",
       " 28,\n",
       " 7,\n",
       " 99,\n",
       " 29,\n",
       " 57,\n",
       " 43,\n",
       " 10]"
      ]
     },
     "execution_count": 15,
     "metadata": {},
     "output_type": "execute_result"
    }
   ],
   "source": [
    "calls"
   ]
  },
  {
   "cell_type": "code",
   "execution_count": 16,
   "id": "13c8f440",
   "metadata": {},
   "outputs": [
    {
     "data": {
      "text/plain": [
       "100"
      ]
     },
     "execution_count": 16,
     "metadata": {},
     "output_type": "execute_result"
    }
   ],
   "source": [
    "len(boards)"
   ]
  },
  {
   "cell_type": "code",
   "execution_count": 17,
   "id": "c32998c3",
   "metadata": {},
   "outputs": [
    {
     "data": {
      "text/plain": [
       "[[67, 11, 21, 53, 60],\n",
       " [52, 58, 54, 94, 47],\n",
       " [84, 46, 72, 81, 16],\n",
       " [31, 51, 23, 36, 97],\n",
       " [80, 43, 75, 99, 79]]"
      ]
     },
     "execution_count": 17,
     "metadata": {},
     "output_type": "execute_result"
    }
   ],
   "source": [
    "boards[-1]"
   ]
  },
  {
   "cell_type": "code",
   "execution_count": 76,
   "id": "3bdacb57",
   "metadata": {},
   "outputs": [
    {
     "data": {
      "text/plain": [
       "100"
      ]
     },
     "execution_count": 76,
     "metadata": {},
     "output_type": "execute_result"
    }
   ],
   "source": [
    "blist = [Bingo(board) for board in boards]\n",
    "len(blist)"
   ]
  },
  {
   "cell_type": "code",
   "execution_count": 67,
   "id": "440bf7c0",
   "metadata": {},
   "outputs": [
    {
     "data": {
      "text/html": [
       "<div>\n",
       "<style scoped>\n",
       "    .dataframe tbody tr th:only-of-type {\n",
       "        vertical-align: middle;\n",
       "    }\n",
       "\n",
       "    .dataframe tbody tr th {\n",
       "        vertical-align: top;\n",
       "    }\n",
       "\n",
       "    .dataframe thead th {\n",
       "        text-align: right;\n",
       "    }\n",
       "</style>\n",
       "<table border=\"1\" class=\"dataframe\">\n",
       "  <thead>\n",
       "    <tr style=\"text-align: right;\">\n",
       "      <th></th>\n",
       "      <th>0</th>\n",
       "      <th>1</th>\n",
       "      <th>2</th>\n",
       "      <th>3</th>\n",
       "      <th>4</th>\n",
       "    </tr>\n",
       "  </thead>\n",
       "  <tbody>\n",
       "    <tr>\n",
       "      <th>0</th>\n",
       "      <td>57</td>\n",
       "      <td>12</td>\n",
       "      <td>60</td>\n",
       "      <td>96</td>\n",
       "      <td>93</td>\n",
       "    </tr>\n",
       "    <tr>\n",
       "      <th>1</th>\n",
       "      <td>73</td>\n",
       "      <td>87</td>\n",
       "      <td>63</td>\n",
       "      <td>70</td>\n",
       "      <td>91</td>\n",
       "    </tr>\n",
       "    <tr>\n",
       "      <th>2</th>\n",
       "      <td>74</td>\n",
       "      <td>32</td>\n",
       "      <td>43</td>\n",
       "      <td>67</td>\n",
       "      <td>46</td>\n",
       "    </tr>\n",
       "    <tr>\n",
       "      <th>3</th>\n",
       "      <td>59</td>\n",
       "      <td>34</td>\n",
       "      <td>5</td>\n",
       "      <td>35</td>\n",
       "      <td>82</td>\n",
       "    </tr>\n",
       "    <tr>\n",
       "      <th>4</th>\n",
       "      <td>53</td>\n",
       "      <td>40</td>\n",
       "      <td>55</td>\n",
       "      <td>29</td>\n",
       "      <td>1</td>\n",
       "    </tr>\n",
       "  </tbody>\n",
       "</table>\n",
       "</div>"
      ],
      "text/plain": [
       "    0   1   2   3   4\n",
       "0  57  12  60  96  93\n",
       "1  73  87  63  70  91\n",
       "2  74  32  43  67  46\n",
       "3  59  34   5  35  82\n",
       "4  53  40  55  29   1"
      ]
     },
     "execution_count": 67,
     "metadata": {},
     "output_type": "execute_result"
    }
   ],
   "source": [
    "blist[0].df"
   ]
  },
  {
   "cell_type": "code",
   "execution_count": 68,
   "id": "85f4b669",
   "metadata": {},
   "outputs": [
    {
     "data": {
      "text/html": [
       "<div>\n",
       "<style scoped>\n",
       "    .dataframe tbody tr th:only-of-type {\n",
       "        vertical-align: middle;\n",
       "    }\n",
       "\n",
       "    .dataframe tbody tr th {\n",
       "        vertical-align: top;\n",
       "    }\n",
       "\n",
       "    .dataframe thead th {\n",
       "        text-align: right;\n",
       "    }\n",
       "</style>\n",
       "<table border=\"1\" class=\"dataframe\">\n",
       "  <thead>\n",
       "    <tr style=\"text-align: right;\">\n",
       "      <th></th>\n",
       "      <th>0</th>\n",
       "      <th>1</th>\n",
       "      <th>2</th>\n",
       "      <th>3</th>\n",
       "      <th>4</th>\n",
       "    </tr>\n",
       "  </thead>\n",
       "  <tbody>\n",
       "    <tr>\n",
       "      <th>0</th>\n",
       "      <td>False</td>\n",
       "      <td>False</td>\n",
       "      <td>False</td>\n",
       "      <td>False</td>\n",
       "      <td>False</td>\n",
       "    </tr>\n",
       "    <tr>\n",
       "      <th>1</th>\n",
       "      <td>False</td>\n",
       "      <td>False</td>\n",
       "      <td>False</td>\n",
       "      <td>False</td>\n",
       "      <td>False</td>\n",
       "    </tr>\n",
       "    <tr>\n",
       "      <th>2</th>\n",
       "      <td>False</td>\n",
       "      <td>False</td>\n",
       "      <td>False</td>\n",
       "      <td>False</td>\n",
       "      <td>False</td>\n",
       "    </tr>\n",
       "    <tr>\n",
       "      <th>3</th>\n",
       "      <td>False</td>\n",
       "      <td>False</td>\n",
       "      <td>False</td>\n",
       "      <td>False</td>\n",
       "      <td>False</td>\n",
       "    </tr>\n",
       "    <tr>\n",
       "      <th>4</th>\n",
       "      <td>False</td>\n",
       "      <td>False</td>\n",
       "      <td>False</td>\n",
       "      <td>False</td>\n",
       "      <td>False</td>\n",
       "    </tr>\n",
       "  </tbody>\n",
       "</table>\n",
       "</div>"
      ],
      "text/plain": [
       "       0      1      2      3      4\n",
       "0  False  False  False  False  False\n",
       "1  False  False  False  False  False\n",
       "2  False  False  False  False  False\n",
       "3  False  False  False  False  False\n",
       "4  False  False  False  False  False"
      ]
     },
     "execution_count": 68,
     "metadata": {},
     "output_type": "execute_result"
    }
   ],
   "source": [
    "blist[0].mark"
   ]
  },
  {
   "cell_type": "code",
   "execution_count": 51,
   "id": "db263981",
   "metadata": {},
   "outputs": [
    {
     "name": "stdout",
     "output_type": "stream",
     "text": [
      "0 0\n"
     ]
    },
    {
     "data": {
      "text/plain": [
       "0"
      ]
     },
     "execution_count": 51,
     "metadata": {},
     "output_type": "execute_result"
    }
   ],
   "source": [
    "blist[0].check()"
   ]
  },
  {
   "cell_type": "code",
   "execution_count": 52,
   "id": "59012155",
   "metadata": {},
   "outputs": [
    {
     "data": {
      "text/plain": [
       "__main__.Bingo"
      ]
     },
     "execution_count": 52,
     "metadata": {},
     "output_type": "execute_result"
    }
   ],
   "source": [
    "b = blist[0]\n",
    "type(b)"
   ]
  },
  {
   "cell_type": "code",
   "execution_count": 53,
   "id": "ba77b6bc",
   "metadata": {},
   "outputs": [
    {
     "data": {
      "text/html": [
       "<div>\n",
       "<style scoped>\n",
       "    .dataframe tbody tr th:only-of-type {\n",
       "        vertical-align: middle;\n",
       "    }\n",
       "\n",
       "    .dataframe tbody tr th {\n",
       "        vertical-align: top;\n",
       "    }\n",
       "\n",
       "    .dataframe thead th {\n",
       "        text-align: right;\n",
       "    }\n",
       "</style>\n",
       "<table border=\"1\" class=\"dataframe\">\n",
       "  <thead>\n",
       "    <tr style=\"text-align: right;\">\n",
       "      <th></th>\n",
       "      <th>0</th>\n",
       "      <th>1</th>\n",
       "      <th>2</th>\n",
       "      <th>3</th>\n",
       "      <th>4</th>\n",
       "    </tr>\n",
       "  </thead>\n",
       "  <tbody>\n",
       "    <tr>\n",
       "      <th>0</th>\n",
       "      <td>57</td>\n",
       "      <td>12</td>\n",
       "      <td>60</td>\n",
       "      <td>96</td>\n",
       "      <td>93</td>\n",
       "    </tr>\n",
       "    <tr>\n",
       "      <th>1</th>\n",
       "      <td>73</td>\n",
       "      <td>87</td>\n",
       "      <td>63</td>\n",
       "      <td>70</td>\n",
       "      <td>91</td>\n",
       "    </tr>\n",
       "    <tr>\n",
       "      <th>2</th>\n",
       "      <td>74</td>\n",
       "      <td>32</td>\n",
       "      <td>43</td>\n",
       "      <td>67</td>\n",
       "      <td>46</td>\n",
       "    </tr>\n",
       "    <tr>\n",
       "      <th>3</th>\n",
       "      <td>59</td>\n",
       "      <td>34</td>\n",
       "      <td>5</td>\n",
       "      <td>35</td>\n",
       "      <td>82</td>\n",
       "    </tr>\n",
       "    <tr>\n",
       "      <th>4</th>\n",
       "      <td>53</td>\n",
       "      <td>40</td>\n",
       "      <td>55</td>\n",
       "      <td>29</td>\n",
       "      <td>1</td>\n",
       "    </tr>\n",
       "  </tbody>\n",
       "</table>\n",
       "</div>"
      ],
      "text/plain": [
       "    0   1   2   3   4\n",
       "0  57  12  60  96  93\n",
       "1  73  87  63  70  91\n",
       "2  74  32  43  67  46\n",
       "3  59  34   5  35  82\n",
       "4  53  40  55  29   1"
      ]
     },
     "execution_count": 53,
     "metadata": {},
     "output_type": "execute_result"
    }
   ],
   "source": [
    "b.df"
   ]
  },
  {
   "cell_type": "code",
   "execution_count": 54,
   "id": "27a06cd9",
   "metadata": {},
   "outputs": [
    {
     "data": {
      "text/plain": [
       "<__main__.Bingo at 0x17d38798fd0>"
      ]
     },
     "execution_count": 54,
     "metadata": {},
     "output_type": "execute_result"
    }
   ],
   "source": [
    "b.call(12)\n"
   ]
  },
  {
   "cell_type": "code",
   "execution_count": 55,
   "id": "96971919",
   "metadata": {},
   "outputs": [
    {
     "data": {
      "text/html": [
       "<div>\n",
       "<style scoped>\n",
       "    .dataframe tbody tr th:only-of-type {\n",
       "        vertical-align: middle;\n",
       "    }\n",
       "\n",
       "    .dataframe tbody tr th {\n",
       "        vertical-align: top;\n",
       "    }\n",
       "\n",
       "    .dataframe thead th {\n",
       "        text-align: right;\n",
       "    }\n",
       "</style>\n",
       "<table border=\"1\" class=\"dataframe\">\n",
       "  <thead>\n",
       "    <tr style=\"text-align: right;\">\n",
       "      <th></th>\n",
       "      <th>0</th>\n",
       "      <th>1</th>\n",
       "      <th>2</th>\n",
       "      <th>3</th>\n",
       "      <th>4</th>\n",
       "    </tr>\n",
       "  </thead>\n",
       "  <tbody>\n",
       "    <tr>\n",
       "      <th>0</th>\n",
       "      <td>False</td>\n",
       "      <td>True</td>\n",
       "      <td>False</td>\n",
       "      <td>False</td>\n",
       "      <td>False</td>\n",
       "    </tr>\n",
       "    <tr>\n",
       "      <th>1</th>\n",
       "      <td>False</td>\n",
       "      <td>True</td>\n",
       "      <td>False</td>\n",
       "      <td>False</td>\n",
       "      <td>False</td>\n",
       "    </tr>\n",
       "    <tr>\n",
       "      <th>2</th>\n",
       "      <td>False</td>\n",
       "      <td>True</td>\n",
       "      <td>False</td>\n",
       "      <td>False</td>\n",
       "      <td>False</td>\n",
       "    </tr>\n",
       "    <tr>\n",
       "      <th>3</th>\n",
       "      <td>False</td>\n",
       "      <td>True</td>\n",
       "      <td>False</td>\n",
       "      <td>False</td>\n",
       "      <td>False</td>\n",
       "    </tr>\n",
       "    <tr>\n",
       "      <th>4</th>\n",
       "      <td>False</td>\n",
       "      <td>True</td>\n",
       "      <td>False</td>\n",
       "      <td>False</td>\n",
       "      <td>False</td>\n",
       "    </tr>\n",
       "  </tbody>\n",
       "</table>\n",
       "</div>"
      ],
      "text/plain": [
       "       0     1      2      3      4\n",
       "0  False  True  False  False  False\n",
       "1  False  True  False  False  False\n",
       "2  False  True  False  False  False\n",
       "3  False  True  False  False  False\n",
       "4  False  True  False  False  False"
      ]
     },
     "execution_count": 55,
     "metadata": {},
     "output_type": "execute_result"
    }
   ],
   "source": [
    "b.call(87).call(32).call(34).call(40).mark"
   ]
  },
  {
   "cell_type": "code",
   "execution_count": 56,
   "id": "80ef5c8e",
   "metadata": {},
   "outputs": [
    {
     "data": {
      "text/html": [
       "<div>\n",
       "<style scoped>\n",
       "    .dataframe tbody tr th:only-of-type {\n",
       "        vertical-align: middle;\n",
       "    }\n",
       "\n",
       "    .dataframe tbody tr th {\n",
       "        vertical-align: top;\n",
       "    }\n",
       "\n",
       "    .dataframe thead th {\n",
       "        text-align: right;\n",
       "    }\n",
       "</style>\n",
       "<table border=\"1\" class=\"dataframe\">\n",
       "  <thead>\n",
       "    <tr style=\"text-align: right;\">\n",
       "      <th></th>\n",
       "      <th>0</th>\n",
       "      <th>1</th>\n",
       "      <th>2</th>\n",
       "      <th>3</th>\n",
       "      <th>4</th>\n",
       "    </tr>\n",
       "  </thead>\n",
       "  <tbody>\n",
       "    <tr>\n",
       "      <th>0</th>\n",
       "      <td>False</td>\n",
       "      <td>True</td>\n",
       "      <td>False</td>\n",
       "      <td>False</td>\n",
       "      <td>False</td>\n",
       "    </tr>\n",
       "    <tr>\n",
       "      <th>1</th>\n",
       "      <td>False</td>\n",
       "      <td>True</td>\n",
       "      <td>False</td>\n",
       "      <td>False</td>\n",
       "      <td>False</td>\n",
       "    </tr>\n",
       "    <tr>\n",
       "      <th>2</th>\n",
       "      <td>False</td>\n",
       "      <td>True</td>\n",
       "      <td>False</td>\n",
       "      <td>True</td>\n",
       "      <td>False</td>\n",
       "    </tr>\n",
       "    <tr>\n",
       "      <th>3</th>\n",
       "      <td>False</td>\n",
       "      <td>True</td>\n",
       "      <td>False</td>\n",
       "      <td>False</td>\n",
       "      <td>False</td>\n",
       "    </tr>\n",
       "    <tr>\n",
       "      <th>4</th>\n",
       "      <td>False</td>\n",
       "      <td>True</td>\n",
       "      <td>False</td>\n",
       "      <td>False</td>\n",
       "      <td>False</td>\n",
       "    </tr>\n",
       "  </tbody>\n",
       "</table>\n",
       "</div>"
      ],
      "text/plain": [
       "       0     1      2      3      4\n",
       "0  False  True  False  False  False\n",
       "1  False  True  False  False  False\n",
       "2  False  True  False   True  False\n",
       "3  False  True  False  False  False\n",
       "4  False  True  False  False  False"
      ]
     },
     "execution_count": 56,
     "metadata": {},
     "output_type": "execute_result"
    }
   ],
   "source": [
    "b.call(67).mark"
   ]
  },
  {
   "cell_type": "code",
   "execution_count": 57,
   "id": "688c853c",
   "metadata": {},
   "outputs": [
    {
     "name": "stdout",
     "output_type": "stream",
     "text": [
      "1 0\n"
     ]
    },
    {
     "data": {
      "text/plain": [
       "1"
      ]
     },
     "execution_count": 57,
     "metadata": {},
     "output_type": "execute_result"
    }
   ],
   "source": [
    "b.check()"
   ]
  },
  {
   "cell_type": "code",
   "execution_count": 26,
   "id": "61eef1a5",
   "metadata": {},
   "outputs": [
    {
     "data": {
      "text/html": [
       "<div>\n",
       "<style scoped>\n",
       "    .dataframe tbody tr th:only-of-type {\n",
       "        vertical-align: middle;\n",
       "    }\n",
       "\n",
       "    .dataframe tbody tr th {\n",
       "        vertical-align: top;\n",
       "    }\n",
       "\n",
       "    .dataframe thead th {\n",
       "        text-align: right;\n",
       "    }\n",
       "</style>\n",
       "<table border=\"1\" class=\"dataframe\">\n",
       "  <thead>\n",
       "    <tr style=\"text-align: right;\">\n",
       "      <th></th>\n",
       "      <th>0</th>\n",
       "      <th>1</th>\n",
       "      <th>2</th>\n",
       "      <th>3</th>\n",
       "      <th>4</th>\n",
       "    </tr>\n",
       "  </thead>\n",
       "  <tbody>\n",
       "    <tr>\n",
       "      <th>0</th>\n",
       "      <td>57</td>\n",
       "      <td>12</td>\n",
       "      <td>60</td>\n",
       "      <td>96</td>\n",
       "      <td>93</td>\n",
       "    </tr>\n",
       "    <tr>\n",
       "      <th>1</th>\n",
       "      <td>73</td>\n",
       "      <td>87</td>\n",
       "      <td>63</td>\n",
       "      <td>70</td>\n",
       "      <td>91</td>\n",
       "    </tr>\n",
       "    <tr>\n",
       "      <th>2</th>\n",
       "      <td>74</td>\n",
       "      <td>32</td>\n",
       "      <td>43</td>\n",
       "      <td>67</td>\n",
       "      <td>46</td>\n",
       "    </tr>\n",
       "    <tr>\n",
       "      <th>3</th>\n",
       "      <td>59</td>\n",
       "      <td>34</td>\n",
       "      <td>5</td>\n",
       "      <td>35</td>\n",
       "      <td>82</td>\n",
       "    </tr>\n",
       "    <tr>\n",
       "      <th>4</th>\n",
       "      <td>53</td>\n",
       "      <td>40</td>\n",
       "      <td>55</td>\n",
       "      <td>29</td>\n",
       "      <td>1</td>\n",
       "    </tr>\n",
       "  </tbody>\n",
       "</table>\n",
       "</div>"
      ],
      "text/plain": [
       "    0   1   2   3   4\n",
       "0  57  12  60  96  93\n",
       "1  73  87  63  70  91\n",
       "2  74  32  43  67  46\n",
       "3  59  34   5  35  82\n",
       "4  53  40  55  29   1"
      ]
     },
     "execution_count": 26,
     "metadata": {},
     "output_type": "execute_result"
    }
   ],
   "source": [
    "df = blist[0].df\n",
    "df"
   ]
  },
  {
   "cell_type": "code",
   "execution_count": 30,
   "id": "9326b9d6",
   "metadata": {},
   "outputs": [
    {
     "data": {
      "text/html": [
       "<div>\n",
       "<style scoped>\n",
       "    .dataframe tbody tr th:only-of-type {\n",
       "        vertical-align: middle;\n",
       "    }\n",
       "\n",
       "    .dataframe tbody tr th {\n",
       "        vertical-align: top;\n",
       "    }\n",
       "\n",
       "    .dataframe thead th {\n",
       "        text-align: right;\n",
       "    }\n",
       "</style>\n",
       "<table border=\"1\" class=\"dataframe\">\n",
       "  <thead>\n",
       "    <tr style=\"text-align: right;\">\n",
       "      <th></th>\n",
       "      <th>0</th>\n",
       "      <th>1</th>\n",
       "      <th>2</th>\n",
       "      <th>3</th>\n",
       "      <th>4</th>\n",
       "    </tr>\n",
       "  </thead>\n",
       "  <tbody>\n",
       "    <tr>\n",
       "      <th>0</th>\n",
       "      <td>False</td>\n",
       "      <td>False</td>\n",
       "      <td>False</td>\n",
       "      <td>False</td>\n",
       "      <td>False</td>\n",
       "    </tr>\n",
       "    <tr>\n",
       "      <th>1</th>\n",
       "      <td>False</td>\n",
       "      <td>False</td>\n",
       "      <td>False</td>\n",
       "      <td>False</td>\n",
       "      <td>False</td>\n",
       "    </tr>\n",
       "    <tr>\n",
       "      <th>2</th>\n",
       "      <td>False</td>\n",
       "      <td>False</td>\n",
       "      <td>False</td>\n",
       "      <td>False</td>\n",
       "      <td>False</td>\n",
       "    </tr>\n",
       "    <tr>\n",
       "      <th>3</th>\n",
       "      <td>False</td>\n",
       "      <td>False</td>\n",
       "      <td>False</td>\n",
       "      <td>False</td>\n",
       "      <td>True</td>\n",
       "    </tr>\n",
       "    <tr>\n",
       "      <th>4</th>\n",
       "      <td>False</td>\n",
       "      <td>False</td>\n",
       "      <td>False</td>\n",
       "      <td>False</td>\n",
       "      <td>False</td>\n",
       "    </tr>\n",
       "  </tbody>\n",
       "</table>\n",
       "</div>"
      ],
      "text/plain": [
       "       0      1      2      3      4\n",
       "0  False  False  False  False  False\n",
       "1  False  False  False  False  False\n",
       "2  False  False  False  False  False\n",
       "3  False  False  False  False   True\n",
       "4  False  False  False  False  False"
      ]
     },
     "execution_count": 30,
     "metadata": {},
     "output_type": "execute_result"
    }
   ],
   "source": [
    "df == 82\n"
   ]
  },
  {
   "cell_type": "code",
   "execution_count": 59,
   "id": "9c6e3064",
   "metadata": {},
   "outputs": [
    {
     "data": {
      "text/html": [
       "<div>\n",
       "<style scoped>\n",
       "    .dataframe tbody tr th:only-of-type {\n",
       "        vertical-align: middle;\n",
       "    }\n",
       "\n",
       "    .dataframe tbody tr th {\n",
       "        vertical-align: top;\n",
       "    }\n",
       "\n",
       "    .dataframe thead th {\n",
       "        text-align: right;\n",
       "    }\n",
       "</style>\n",
       "<table border=\"1\" class=\"dataframe\">\n",
       "  <thead>\n",
       "    <tr style=\"text-align: right;\">\n",
       "      <th></th>\n",
       "      <th>0</th>\n",
       "      <th>1</th>\n",
       "      <th>2</th>\n",
       "      <th>3</th>\n",
       "      <th>4</th>\n",
       "    </tr>\n",
       "  </thead>\n",
       "  <tbody>\n",
       "    <tr>\n",
       "      <th>0</th>\n",
       "      <td>True</td>\n",
       "      <td>False</td>\n",
       "      <td>True</td>\n",
       "      <td>True</td>\n",
       "      <td>True</td>\n",
       "    </tr>\n",
       "    <tr>\n",
       "      <th>1</th>\n",
       "      <td>True</td>\n",
       "      <td>False</td>\n",
       "      <td>True</td>\n",
       "      <td>True</td>\n",
       "      <td>True</td>\n",
       "    </tr>\n",
       "    <tr>\n",
       "      <th>2</th>\n",
       "      <td>True</td>\n",
       "      <td>False</td>\n",
       "      <td>True</td>\n",
       "      <td>False</td>\n",
       "      <td>True</td>\n",
       "    </tr>\n",
       "    <tr>\n",
       "      <th>3</th>\n",
       "      <td>True</td>\n",
       "      <td>False</td>\n",
       "      <td>True</td>\n",
       "      <td>True</td>\n",
       "      <td>True</td>\n",
       "    </tr>\n",
       "    <tr>\n",
       "      <th>4</th>\n",
       "      <td>True</td>\n",
       "      <td>False</td>\n",
       "      <td>True</td>\n",
       "      <td>True</td>\n",
       "      <td>True</td>\n",
       "    </tr>\n",
       "  </tbody>\n",
       "</table>\n",
       "</div>"
      ],
      "text/plain": [
       "      0      1     2      3     4\n",
       "0  True  False  True   True  True\n",
       "1  True  False  True   True  True\n",
       "2  True  False  True  False  True\n",
       "3  True  False  True   True  True\n",
       "4  True  False  True   True  True"
      ]
     },
     "execution_count": 59,
     "metadata": {},
     "output_type": "execute_result"
    }
   ],
   "source": [
    "mask = blist[0].mark\n",
    "~mask"
   ]
  },
  {
   "cell_type": "code",
   "execution_count": 60,
   "id": "23651083",
   "metadata": {},
   "outputs": [
    {
     "data": {
      "text/html": [
       "<div>\n",
       "<style scoped>\n",
       "    .dataframe tbody tr th:only-of-type {\n",
       "        vertical-align: middle;\n",
       "    }\n",
       "\n",
       "    .dataframe tbody tr th {\n",
       "        vertical-align: top;\n",
       "    }\n",
       "\n",
       "    .dataframe thead th {\n",
       "        text-align: right;\n",
       "    }\n",
       "</style>\n",
       "<table border=\"1\" class=\"dataframe\">\n",
       "  <thead>\n",
       "    <tr style=\"text-align: right;\">\n",
       "      <th></th>\n",
       "      <th>0</th>\n",
       "      <th>1</th>\n",
       "      <th>2</th>\n",
       "      <th>3</th>\n",
       "      <th>4</th>\n",
       "    </tr>\n",
       "  </thead>\n",
       "  <tbody>\n",
       "    <tr>\n",
       "      <th>0</th>\n",
       "      <td>57</td>\n",
       "      <td>12</td>\n",
       "      <td>60</td>\n",
       "      <td>96</td>\n",
       "      <td>93</td>\n",
       "    </tr>\n",
       "    <tr>\n",
       "      <th>1</th>\n",
       "      <td>73</td>\n",
       "      <td>87</td>\n",
       "      <td>63</td>\n",
       "      <td>70</td>\n",
       "      <td>91</td>\n",
       "    </tr>\n",
       "    <tr>\n",
       "      <th>2</th>\n",
       "      <td>74</td>\n",
       "      <td>32</td>\n",
       "      <td>43</td>\n",
       "      <td>67</td>\n",
       "      <td>46</td>\n",
       "    </tr>\n",
       "    <tr>\n",
       "      <th>3</th>\n",
       "      <td>59</td>\n",
       "      <td>34</td>\n",
       "      <td>5</td>\n",
       "      <td>35</td>\n",
       "      <td>82</td>\n",
       "    </tr>\n",
       "    <tr>\n",
       "      <th>4</th>\n",
       "      <td>53</td>\n",
       "      <td>40</td>\n",
       "      <td>55</td>\n",
       "      <td>29</td>\n",
       "      <td>1</td>\n",
       "    </tr>\n",
       "  </tbody>\n",
       "</table>\n",
       "</div>"
      ],
      "text/plain": [
       "    0   1   2   3   4\n",
       "0  57  12  60  96  93\n",
       "1  73  87  63  70  91\n",
       "2  74  32  43  67  46\n",
       "3  59  34   5  35  82\n",
       "4  53  40  55  29   1"
      ]
     },
     "execution_count": 60,
     "metadata": {},
     "output_type": "execute_result"
    }
   ],
   "source": [
    "df"
   ]
  },
  {
   "cell_type": "code",
   "execution_count": 64,
   "id": "154cfe3b",
   "metadata": {},
   "outputs": [
    {
     "data": {
      "text/plain": [
       "1085"
      ]
     },
     "execution_count": 64,
     "metadata": {},
     "output_type": "execute_result"
    }
   ],
   "source": [
    "df[~mask].sum().sum().astype('int')"
   ]
  },
  {
   "cell_type": "code",
   "execution_count": 38,
   "id": "d2b63f33",
   "metadata": {},
   "outputs": [
    {
     "data": {
      "text/html": [
       "<div>\n",
       "<style scoped>\n",
       "    .dataframe tbody tr th:only-of-type {\n",
       "        vertical-align: middle;\n",
       "    }\n",
       "\n",
       "    .dataframe tbody tr th {\n",
       "        vertical-align: top;\n",
       "    }\n",
       "\n",
       "    .dataframe thead th {\n",
       "        text-align: right;\n",
       "    }\n",
       "</style>\n",
       "<table border=\"1\" class=\"dataframe\">\n",
       "  <thead>\n",
       "    <tr style=\"text-align: right;\">\n",
       "      <th></th>\n",
       "      <th>0</th>\n",
       "      <th>1</th>\n",
       "      <th>2</th>\n",
       "      <th>3</th>\n",
       "      <th>4</th>\n",
       "    </tr>\n",
       "  </thead>\n",
       "  <tbody>\n",
       "    <tr>\n",
       "      <th>0</th>\n",
       "      <td>False</td>\n",
       "      <td>False</td>\n",
       "      <td>False</td>\n",
       "      <td>False</td>\n",
       "      <td>False</td>\n",
       "    </tr>\n",
       "    <tr>\n",
       "      <th>1</th>\n",
       "      <td>False</td>\n",
       "      <td>False</td>\n",
       "      <td>False</td>\n",
       "      <td>False</td>\n",
       "      <td>False</td>\n",
       "    </tr>\n",
       "    <tr>\n",
       "      <th>2</th>\n",
       "      <td>False</td>\n",
       "      <td>True</td>\n",
       "      <td>False</td>\n",
       "      <td>False</td>\n",
       "      <td>False</td>\n",
       "    </tr>\n",
       "    <tr>\n",
       "      <th>3</th>\n",
       "      <td>False</td>\n",
       "      <td>False</td>\n",
       "      <td>False</td>\n",
       "      <td>False</td>\n",
       "      <td>True</td>\n",
       "    </tr>\n",
       "    <tr>\n",
       "      <th>4</th>\n",
       "      <td>False</td>\n",
       "      <td>False</td>\n",
       "      <td>False</td>\n",
       "      <td>False</td>\n",
       "      <td>False</td>\n",
       "    </tr>\n",
       "  </tbody>\n",
       "</table>\n",
       "</div>"
      ],
      "text/plain": [
       "       0      1      2      3      4\n",
       "0  False  False  False  False  False\n",
       "1  False  False  False  False  False\n",
       "2  False   True  False  False  False\n",
       "3  False  False  False  False   True\n",
       "4  False  False  False  False  False"
      ]
     },
     "execution_count": 38,
     "metadata": {},
     "output_type": "execute_result"
    }
   ],
   "source": [
    "mask = mask | (df == 82) | (df==32)\n",
    "mask"
   ]
  },
  {
   "cell_type": "code",
   "execution_count": 43,
   "id": "b79cf896",
   "metadata": {},
   "outputs": [
    {
     "data": {
      "text/plain": [
       "2"
      ]
     },
     "execution_count": 43,
     "metadata": {},
     "output_type": "execute_result"
    }
   ],
   "source": [
    "(mask.sum() > 0).sum()"
   ]
  },
  {
   "cell_type": "code",
   "execution_count": 46,
   "id": "327715ae",
   "metadata": {},
   "outputs": [
    {
     "data": {
      "text/plain": [
       "5"
      ]
     },
     "execution_count": 46,
     "metadata": {},
     "output_type": "execute_result"
    }
   ],
   "source": [
    "mask.shape[0]"
   ]
  },
  {
   "cell_type": "code",
   "execution_count": 47,
   "id": "6f06bb3a",
   "metadata": {},
   "outputs": [
    {
     "data": {
      "text/plain": [
       "0    0\n",
       "1    0\n",
       "2    1\n",
       "3    1\n",
       "4    0\n",
       "dtype: int64"
      ]
     },
     "execution_count": 47,
     "metadata": {},
     "output_type": "execute_result"
    }
   ],
   "source": [
    "mask.T.sum()"
   ]
  },
  {
   "cell_type": "code",
   "execution_count": 74,
   "id": "266f15ba",
   "metadata": {},
   "outputs": [
    {
     "name": "stdout",
     "output_type": "stream",
     "text": [
      "Found score! 621\n",
      "Called 94 got 621 so 58374\n"
     ]
    }
   ],
   "source": [
    "done = False\n",
    "for n in calls:    \n",
    "    for b in blist:\n",
    "        res = b.call(n)\n",
    "        if res:\n",
    "            print(\"Called\", n, \"got\", res, \"so\", n*res)\n",
    "            done = True\n",
    "            break\n",
    "    if done:\n",
    "        break"
   ]
  },
  {
   "cell_type": "code",
   "execution_count": 77,
   "id": "7d5fb256",
   "metadata": {},
   "outputs": [
    {
     "name": "stdout",
     "output_type": "stream",
     "text": [
      "Found score! 621\n",
      "Called 94 got 621 so 58374\n",
      "Found score! 840\n",
      "Called 71 got 840 so 59640\n",
      "Found score! 803\n",
      "Called 90 got 803 so 72270\n",
      "Found score! 537\n",
      "Called 96 got 537 so 51552\n",
      "Found score! 636\n",
      "Called 75 got 636 so 47700\n",
      "Found score! 658\n",
      "Called 75 got 658 so 49350\n",
      "Found score! 701\n",
      "Called 58 got 701 so 40658\n",
      "Found score! 534\n",
      "Called 58 got 534 so 30972\n",
      "Found score! 696\n",
      "Called 82 got 696 so 57072\n",
      "Found score! 591\n",
      "Called 14 got 591 so 8274\n",
      "Found score! 838\n",
      "Called 27 got 838 so 22626\n",
      "Found score! 404\n",
      "Called 27 got 404 so 10908\n",
      "Found score! 585\n",
      "Called 27 got 585 so 15795\n",
      "Found score! 711\n",
      "Called 49 got 711 so 34839\n",
      "Found score! 593\n",
      "Called 49 got 593 so 29057\n",
      "Found score! 586\n",
      "Called 49 got 586 so 28714\n",
      "Found score! 318\n",
      "Called 49 got 318 so 15582\n",
      "Found score! 426\n",
      "Called 69 got 426 so 29394\n",
      "Found score! 650\n",
      "Called 69 got 650 so 44850\n",
      "Found score! 759\n",
      "Called 69 got 759 so 52371\n",
      "Found score! 439\n",
      "Called 89 got 439 so 39071\n",
      "Found score! 447\n",
      "Called 89 got 447 so 39783\n",
      "Found score! 450\n",
      "Called 89 got 450 so 40050\n",
      "Found score! 427\n",
      "Called 37 got 427 so 15799\n",
      "Found score! 502\n",
      "Called 13 got 502 so 6526\n",
      "Found score! 690\n",
      "Called 1 got 690 so 690\n",
      "Found score! 486\n",
      "Called 1 got 486 so 486\n",
      "Found score! 330\n",
      "Called 1 got 330 so 330\n",
      "Found score! 653\n",
      "Called 1 got 653 so 653\n",
      "Found score! 720\n",
      "Called 1 got 720 so 720\n",
      "Found score! 780\n",
      "Called 1 got 780 so 780\n",
      "Found score! 427\n",
      "Called 1 got 427 so 427\n",
      "Found score! 346\n",
      "Called 81 got 346 so 28026\n",
      "Found score! 597\n",
      "Called 81 got 597 so 48357\n",
      "Found score! 641\n",
      "Called 81 got 641 so 51921\n",
      "Found score! 586\n",
      "Called 81 got 586 so 47466\n",
      "Found score! 398\n",
      "Called 81 got 398 so 32238\n",
      "Found score! 443\n",
      "Called 81 got 443 so 35883\n",
      "Found score! 505\n",
      "Called 81 got 505 so 40905\n",
      "Found score! 578\n",
      "Called 81 got 578 so 46818\n",
      "Found score! 651\n",
      "Called 60 got 651 so 39060\n",
      "Found score! 516\n",
      "Called 60 got 516 so 30960\n",
      "Found score! 566\n",
      "Called 60 got 566 so 33960\n",
      "Found score! 353\n",
      "Called 60 got 353 so 21180\n",
      "Found score! 536\n",
      "Called 79 got 536 so 42344\n",
      "Found score! 465\n",
      "Called 79 got 465 so 36735\n",
      "Found score! 271\n",
      "Called 79 got 271 so 21409\n",
      "Found score! 449\n",
      "Called 51 got 449 so 22899\n",
      "Found score! 765\n",
      "Called 51 got 765 so 39015\n",
      "Found score! 446\n",
      "Called 51 got 446 so 22746\n",
      "Found score! 384\n",
      "Called 51 got 384 so 19584\n",
      "Found score! 525\n",
      "Called 18 got 525 so 9450\n",
      "Found score! 830\n",
      "Called 18 got 830 so 14940\n",
      "Found score! 516\n",
      "Called 18 got 516 so 9288\n",
      "Found score! 546\n",
      "Called 48 got 546 so 26208\n",
      "Found score! 507\n",
      "Called 33 got 507 so 16731\n",
      "Found score! 322\n",
      "Called 33 got 322 so 10626\n",
      "Found score! 368\n",
      "Called 42 got 368 so 15456\n",
      "Found score! 357\n",
      "Called 63 got 357 so 22491\n",
      "Found score! 415\n",
      "Called 63 got 415 so 26145\n",
      "Found score! 317\n",
      "Called 63 got 317 so 19971\n",
      "Found score! 338\n",
      "Called 39 got 338 so 13182\n",
      "Found score! 612\n",
      "Called 39 got 612 so 23868\n",
      "Found score! 306\n",
      "Called 39 got 306 so 11934\n",
      "Found score! 458\n",
      "Called 34 got 458 so 15572\n",
      "Found score! 354\n",
      "Called 34 got 354 so 12036\n",
      "Found score! 318\n",
      "Called 34 got 318 so 10812\n",
      "Found score! 378\n",
      "Called 62 got 378 so 23436\n",
      "Found score! 347\n",
      "Called 62 got 347 so 21514\n",
      "Found score! 472\n",
      "Called 55 got 472 so 25960\n",
      "Found score! 556\n",
      "Called 55 got 556 so 30580\n",
      "Found score! 306\n",
      "Called 55 got 306 so 16830\n",
      "Found score! 366\n",
      "Called 55 got 366 so 20130\n",
      "Found score! 701\n",
      "Called 55 got 701 so 38555\n",
      "Found score! 559\n",
      "Called 55 got 559 so 30745\n",
      "Found score! 394\n",
      "Called 55 got 394 so 21670\n",
      "Found score! 429\n",
      "Called 47 got 429 so 20163\n",
      "Found score! 345\n",
      "Called 54 got 345 so 18630\n",
      "Found score! 478\n",
      "Called 54 got 478 so 25812\n",
      "Found score! 421\n",
      "Called 54 got 421 so 22734\n",
      "Found score! 372\n",
      "Called 54 got 372 so 20088\n",
      "Found score! 415\n",
      "Called 54 got 415 so 22410\n",
      "Found score! 512\n",
      "Called 23 got 512 so 11776\n",
      "Found score! 479\n",
      "Called 83 got 479 so 39757\n",
      "Found score! 492\n",
      "Called 77 got 492 so 37884\n",
      "Found score! 454\n",
      "Called 9 got 454 so 4086\n",
      "Found score! 277\n",
      "Called 9 got 277 so 2493\n",
      "Found score! 450\n",
      "Called 70 got 450 so 31500\n",
      "Found score! 267\n",
      "Called 70 got 267 so 18690\n",
      "Found score! 376\n",
      "Called 68 got 376 so 25568\n",
      "Found score! 285\n",
      "Called 86 got 285 so 24510\n",
      "Found score! 451\n",
      "Called 86 got 451 so 38786\n",
      "Found score! 415\n",
      "Called 4 got 415 so 1660\n",
      "Found score! 250\n",
      "Called 4 got 250 so 1000\n",
      "Found score! 437\n",
      "Called 4 got 437 so 1748\n",
      "Found score! 341\n",
      "Called 4 got 341 so 1364\n",
      "Found score! 223\n",
      "Called 61 got 223 so 13603\n",
      "Found score! 246\n",
      "Called 61 got 246 so 15006\n",
      "Found score! 248\n",
      "Called 78 got 248 so 19344\n",
      "Found score! 367\n",
      "Called 31 got 367 so 11377\n"
     ]
    }
   ],
   "source": [
    "for n in calls:\n",
    "    for b in blist:\n",
    "        if b.won:\n",
    "            continue\n",
    "        res = b.call(n)\n",
    "        if res:\n",
    "            print(\"Called\", n, \"got\", res, \"so\", n*res)"
   ]
  }
 ],
 "metadata": {
  "kernelspec": {
   "display_name": "Python 3 (ipykernel)",
   "language": "python",
   "name": "python3"
  },
  "language_info": {
   "codemirror_mode": {
    "name": "ipython",
    "version": 3
   },
   "file_extension": ".py",
   "mimetype": "text/x-python",
   "name": "python",
   "nbconvert_exporter": "python",
   "pygments_lexer": "ipython3",
   "version": "3.9.7"
  }
 },
 "nbformat": 4,
 "nbformat_minor": 5
}
